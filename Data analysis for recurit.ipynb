{
 "cells": [
  {
   "cell_type": "markdown",
   "metadata": {},
   "source": [
    "## 对爬取的招聘信息进行数据清洗以及简单的数据分析"
   ]
  },
  {
   "cell_type": "code",
   "execution_count": 1,
   "metadata": {},
   "outputs": [],
   "source": [
    "# 加载使用到的工具库\n",
    "import pandas as pd\n",
    "import numpy as np\n",
    "import matplotlib.pyplot as plt\n",
    "from datetime import datetime\n",
    "from sklearn.ensemble import RandomForestRegressor\n",
    "from wordcloud import WordCloud\n",
    "from pylab import mpl\n",
    "mpl.rcParams[\"font.sans-serif\"] = [\"FangSong\"] #将图像字体设置为FangSong\n",
    "mpl.rcParams[\"axes.unicode_minus\"] = False #防止字体显示不出负号\n",
    "%matplotlib inline"
   ]
  },
  {
   "cell_type": "markdown",
   "metadata": {},
   "source": [
    "### 数据清洗\n",
    "<p>将数据或是表头转换为方便阅读的形式，如时间格式，表头的顺序，空白数据。\n",
    "<p>将无效的数据删除（不含数据分析关键字的数据）。\n",
    "<p>将重复含义的数据合并\n",
    "<p>将资格要求拆分\n",
    "<p>将工资换算为平均工资\n",
    "<p>将工资为面议的部分用随机森林方法计算出（可能会有较大误差，但我主要看趋势）。"
   ]
  },
  {
   "cell_type": "code",
   "execution_count": 2,
   "metadata": {},
   "outputs": [
    {
     "data": {
      "text/plain": [
       "952"
      ]
     },
     "execution_count": 2,
     "metadata": {},
     "output_type": "execute_result"
    }
   ],
   "source": [
    "#读取数据、删除重复项目，顺便看看有多少条招聘信息\n",
    "df = pd.read_excel(r\"20180913liepin.xlsx\") \n",
    "df = df.drop_duplicates() #删除重复值\n",
    "len(df)"
   ]
  },
  {
   "cell_type": "code",
   "execution_count": 3,
   "metadata": {},
   "outputs": [
    {
     "data": {
      "text/plain": [
       "(           company                                            context  \\\n",
       " 0  法国赛科技术工程集团中国总公司  Responsibilities:•\\tTake the lead on the instr...   \n",
       " 1         广汇汽车华东大区  岗位职责：1、负责从KPI、BI等系统中导出数据对大区运营条线进行数据分析支持；2、收集运营...   \n",
       " 2       上海谷米实业有限公司  工作职责：一、客户信息维护1、新开客户信息的掌握&熟知二、样机管理（严格遵循样机管理制度）三...   \n",
       " 3     上海东昌汽车管理有限公司  岗位职责：1、监督并支持集团下属各汽车品牌各售后经理的日常管理工作；2、全国各4S店售后保养...   \n",
       " 4       上海谷米实业有限公司  职责描述：1、负责大数据需求调研、数据分析、商业分析和数据挖掘模型等，对行业数据进行挖掘分析...   \n",
       " \n",
       "                                               labels           position  \\\n",
       " 0           ['周末双休', '交通便利', '五险一金', '外企环境', '带薪年假']        整车仪表数据分析工程师   \n",
       " 1  ['绩效奖金', '带薪年假', '交通补助', '通讯津贴', '节日礼物', '管理规范...             数据分析专员   \n",
       " 2    ['五险一金', '年底双薪', '绩效奖金', '全勤奖', '包吃包住', '带薪年假']  sop专员/销售运营专员/数据分析   \n",
       " 3  ['带薪年假', '通讯津贴', '午餐补助', '绩效奖金', '定期体检', '年度旅游...            售后数据分析岗   \n",
       " 4  ['年底双薪', '带薪年假', '绩效奖金', '节日礼物', '五险一金', '岗位晋升...            资深数据分析师   \n",
       " \n",
       "                       qualifications release_date  \\\n",
       " 0   ['学历不限', '经验不限', '语言不限', '年龄不限']  2018年09月13日   \n",
       " 1  ['大专及以上', '经验不限', '语言不限', '年龄不限']  2018年09月12日   \n",
       " 2   ['大专及以上', '1年以上', '普通话', '年龄不限']  2018年09月13日   \n",
       " 3   ['统招本科', '经验不限', '语言不限', '年龄不限']  2018年09月13日   \n",
       " 4   ['统招本科', '5年以上', '语言不限', '年龄不限']  2018年09月13日   \n",
       " \n",
       "                                               salary    zone  \n",
       " 0  面议\\r\\n                                        ...  上海-漕河泾  \n",
       " 1  6-11万\\r\\n                                     ...      上海  \n",
       " 2  6-8万\\r\\n                                      ...      上海  \n",
       " 3  10-13万\\r\\n                                    ...      上海  \n",
       " 4  24-36万\\r\\n                                    ...   上海-杨行  ,\n",
       "             company                                            context  \\\n",
       " 1179  观致汽车有限公司上海分公司  Core Accountabilities: 主要工作职责：1. 编制公司月度工资报表，按时...   \n",
       " 1180          上汽乘用车  岗位职责：1、打造运维的新监控体系，完善运维自动化工作；2、通过大数据统计和分析发现用户痛点...   \n",
       " 1181           爱斯达克  Responsibilities:-\\tStaffing: Plan and assure ...   \n",
       " 1182         上海通用汽车  工作职责:准确、高效地完成公司薪酬和福利日常发放、社会性福利（五险一金）缴纳、薪资数据的统计...   \n",
       " 1183           李尔上海  职责描述：Position Focus:     l  Key role for all a...   \n",
       " \n",
       "                                                  labels  \\\n",
       " 1179            ['五险一金', '免费班车', '领导好', '带薪年假', '管理规范']   \n",
       " 1180  ['绩效奖金', '带薪年假', '午餐补助', '免费班车', '定期体检', '管理规范...   \n",
       " 1181  ['带薪年假', '通讯津贴', '定期体检', '免费班车', '管理规范', '五险一金...   \n",
       " 1182  ['带薪年假', '交通补助', '午餐补助', '定期体检', '弹性工作', '节日礼物...   \n",
       " 1183                   ['年底双薪', '带薪年假', '上市公司', '岗位晋升']   \n",
       " \n",
       "                         position                        qualifications  \\\n",
       " 1179                    薪酬福利高级专员     ['本科及以上', '3年以上', '语言不限', '年龄不限']   \n",
       " 1180                     运维服务工程师  ['统招本科', '3年以上', '英语 + 普通话', '年龄不限']   \n",
       " 1181     Program Quality Manager     ['大专及以上', '6年以上', '语言不限', '年龄不限']   \n",
       " 1182                   薪资福利专员-上海      ['统招本科', '2年以上', '语言不限', '年龄不限']   \n",
       " 1183  Senior Accountant, GL/总账会计     ['本科及以上', '8年以上', '语言不限', '年龄不限']   \n",
       " \n",
       "      release_date                                             salary     zone  \n",
       " 1179  2018年07月23日  面议\\r\\n                                        ...       上海  \n",
       " 1180  2018年07月31日  18-36万\\r\\n                                    ...   上海-嘉定区  \n",
       " 1181  2018年07月24日  面议\\r\\n                                        ...  上海-浦东新区  \n",
       " 1182  2018年07月26日  面议\\r\\n                                        ...       上海  \n",
       " 1183  2018年08月06日  面议\\r\\n                                        ...    上海-颛桥  )"
      ]
     },
     "execution_count": 3,
     "metadata": {},
     "output_type": "execute_result"
    }
   ],
   "source": [
    "df.head(),df.tail()"
   ]
  },
  {
   "cell_type": "code",
   "execution_count": 4,
   "metadata": {},
   "outputs": [],
   "source": [
    "#替换一下日期格式\n",
    "df[\"release_date\"] = df.release_date.apply(lambda t: datetime.strftime(datetime.strptime(t, \"%Y年%m月%d日\"),\"%Y.%m.%d\"))"
   ]
  },
  {
   "cell_type": "code",
   "execution_count": 5,
   "metadata": {},
   "outputs": [],
   "source": [
    "#将空标签替换为\"no_labels\"\n",
    "df = df.replace(\"[]\", np.nan)\n",
    "df.fillna(\"no_labels\", inplace=True)"
   ]
  },
  {
   "cell_type": "code",
   "execution_count": 6,
   "metadata": {},
   "outputs": [],
   "source": [
    "#拆分资格要求\n",
    "\n",
    "#由于字符串里面有很多标点符号，为了方便阅读，\n",
    "#先将'替换成空\n",
    "df[\"qualifications\"] = df[\"qualifications\"].apply(lambda x:x.replace(\"'\", \"\")) \n",
    "\n",
    "#然后将qualification特征分解为四个特征\n",
    "for feature,i in {\"education\":0, \"experience\":1, \"language\":2, \"age\":3}.items():\n",
    "    df[feature] = df[\"qualifications\"].apply(lambda x: x.lstrip(\"[\").rstrip(\"]\").split(\",\")[i])\n",
    "\n",
    "#最后将qualifications特征删除\n",
    "df.drop([\"qualifications\"], 1, inplace=True)"
   ]
  },
  {
   "cell_type": "code",
   "execution_count": 7,
   "metadata": {},
   "outputs": [
    {
     "data": {
      "text/plain": [
       "109"
      ]
     },
     "execution_count": 7,
     "metadata": {},
     "output_type": "execute_result"
    }
   ],
   "source": [
    "#有一些招聘信息并不是我们想要的，我们通过查看职位以及\n",
    "#职责描述里面是否包含\"数据分析\"或\"data analysis\"字样来清\n",
    "#除一些非数据相关信息\n",
    "\n",
    "#设置一个新特征来判断是否为数据分析职位，不是的设置为nan\n",
    "df[\"isDA\"] = df[\"position\"].apply(lambda x: 1 if x.find(\"数据\" or \"分析\") >= 0  \n",
    "                                  else 1 if x.find(\"data\" or  \"analysis\") >= 0 else np.nan)\n",
    "#df[\"isDA\"] = df[\"context\"].apply(lambda x: 1 if x.find(\"数据分析\") >= 0  \n",
    " #                                else 1 if x.find(\"data analysis\") >= 0 else np.nan)\n",
    "\n",
    "df = df.dropna() #将与数据分析无关的职位删除\n",
    "\n",
    "df.drop([\"isDA\"], 1, inplace=True)\n",
    "len(df)"
   ]
  },
  {
   "cell_type": "code",
   "execution_count": null,
   "metadata": {},
   "outputs": [],
   "source": [
    "#看一下age,education,experience中有没有描述意义重复的词\n",
    "for feature in [\"age\", \"education\", \"experience\", \"language\"]:\n",
    "    print(\"*\"*80)\n",
    "    print(df[feature].unique())"
   ]
  },
  {
   "cell_type": "code",
   "execution_count": null,
   "metadata": {},
   "outputs": [],
   "source": [
    "#统一语言的描述\n",
    "df = df.replace({' 普通话':' 语言不限',\n",
    "                 ' 英语 + 普通话':' 英语',\n",
    "                 ' 英语 + 日语 + 普通话':' 英语 + 日语'})\n",
    "\n",
    "#将统招本科与本科及以上合并\n",
    "df = df.replace(\"统招本科\", \"本科及以上\")"
   ]
  },
  {
   "cell_type": "code",
   "execution_count": null,
   "metadata": {},
   "outputs": [],
   "source": [
    "#将工资转换成平均工资，面议部门暂时保留\n",
    "df[\"salary\"] = df.salary.apply(lambda x: x[:10].strip())\n",
    "df[\"low_salary\"] = df[\"salary\"].apply(lambda x:\"面议\" if x==\"面议\" else int(x.split(\"-\")[0]))\n",
    "df[\"high_salary\"] = df[\"salary\"].apply(lambda x:\"面议\" if x==\"面议\" else int(x.split(\"-\")[1][:-1]))\n",
    "df = df.replace(\"面议\", 0)\n",
    "df[\"ave_salary\"] = (df[\"low_salary\"] + df[\"high_salary\"])/2\n",
    "df.drop([\"salary\", \"low_salary\", \"high_salary\"], 1, inplace=True)\n",
    "df = df.replace(0, \"面议\")"
   ]
  },
  {
   "cell_type": "code",
   "execution_count": null,
   "metadata": {},
   "outputs": [],
   "source": [
    "#用特征学历和工作经验来预测面议工资\n",
    "#先将学历和工作经验分类数值化\n",
    "df[\"experience\"] = df[\"experience\"].map({\" 经验不限\":0, \" 1年以上\":1, \" 2年以上\":2, \" 3年以上\":3, \n",
    "                                                 \" 4年以上\":4, \" 5年以上\":5, \" 6年以上\":6, \" 7年以上\":7, \n",
    "                                                 \" 8年以上\":8, \" 10年以上\":10, \" 12年以上\":12})\n",
    "df[\"education\"] = df[\"education\"].map({\"学历不限\":0, \"大专及以上\":1, \"本科及以上\":2, \"硕士及以上\":3, \"博士\":4})\n",
    "\n",
    "#将有工资的部分作为训练集，面议部分作为测试集\n",
    "df_train = df[df[\"ave_salary\"] != \"面议\"]\n",
    "df_test = df[df[\"ave_salary\"] == \"面议\"]\n",
    "\n",
    "#我们只提取出数值部分来建立模型\n",
    "df_train = df_train[[\"experience\", \"education\", \"ave_salary\"]]\n",
    "df_test = df_test[[\"experience\", \"education\"]]\n",
    "X_train = df_train[[\"experience\", \"education\"]]\n",
    "y_train = df_train[\"ave_salary\"]\n",
    "\n",
    "#建立模型并预测\n",
    "rfr = RandomForestRegressor() #用随机森林模型预测面议的工资\n",
    "rfr.fit(X_train, y_train) \n",
    "y_pred = rfr.predict(df_test)\n",
    "y_pred = y_pred.round(1) #将工资调整为小数点后1位"
   ]
  },
  {
   "cell_type": "code",
   "execution_count": null,
   "metadata": {},
   "outputs": [],
   "source": [
    "#将面议工资替换成预测的y_pred\n",
    "df.loc[df[\"ave_salary\"] == \"面议\", \"ave_salary\"] = y_pred\n",
    "df.ave_salary = df.ave_salary.astype(\"float64\")"
   ]
  },
  {
   "cell_type": "code",
   "execution_count": null,
   "metadata": {},
   "outputs": [],
   "source": [
    "#最后将education和experience由数值型转换为文本\n",
    "df[\"experience\"] = df[\"experience\"].map({0:\"经验不限\", 1:\"1年以上\", 2:\"2年以上\", 3:\"3年以上\", \n",
    "                                                 4:\"4年以上\", 5:\"5年以上\", 6:\"6年以上\", 7:\"7年以上\", \n",
    "                                                 8:\"8年以上\", 10:\"10年以上\", 12:\"12年以上\"})\n",
    "df[\"education\"] = df[\"education\"].map({0:\"学历不限\", 1:\"大专及以上\", 2:\"本科及以上\", 3:\"硕士及以上\", 4:\"博士\"})"
   ]
  },
  {
   "cell_type": "code",
   "execution_count": null,
   "metadata": {},
   "outputs": [],
   "source": [
    "#我们将第一行调整为方便阅读的顺序\n",
    "col = ['release_date','company',  'zone','position', \n",
    "       'ave_salary', 'education', 'experience',\n",
    "       'language', 'age', 'labels', 'context']\n",
    "df = df[col]"
   ]
  },
  {
   "cell_type": "markdown",
   "metadata": {},
   "source": [
    "### 数据分析\n",
    "<p>对数据的总体信息简单的描述性统计分析\n",
    "<p>对一些独立值较多的特征制作词云\n",
    "<p>采用图形法对工资以及相关特征做了简单的分析"
   ]
  },
  {
   "cell_type": "code",
   "execution_count": null,
   "metadata": {
    "scrolled": true
   },
   "outputs": [],
   "source": [
    "df.describe(include=\"O\")"
   ]
  },
  {
   "cell_type": "markdown",
   "metadata": {},
   "source": [
    "#### 简单的描述统计分析\n",
    "<p> 公司信息  \n",
    "从发布时间可以看到当天发布的信息占到了27%左右；   \n",
    "    428个公司提供了693条招聘信息；   \n",
    "    超过六成的招聘信息没有具体说明公司所在位置；   \n",
    "    虽然搜索的关键字是数据分析，但职名称多达612条独立职位，可能还存在不是我们需要找的职位。\n",
    "<p> 职位信息  \n",
    "    本科以上，3年工作经验，年龄语言不限时出现最多的词条；     \n",
    "    42%的公司没有贴出labels（但不代表没有福利）。   "
   ]
  },
  {
   "cell_type": "markdown",
   "metadata": {},
   "source": [
    "#### 对数据进行简单的分析\n",
    "<p> 主要针对工资，教育，工作经验，语言，进行分析，并查看一下公司和福利\n",
    "<p> 于是我们再删除一些不需要的数据"
   ]
  },
  {
   "cell_type": "code",
   "execution_count": null,
   "metadata": {},
   "outputs": [],
   "source": [
    "#将release_date,zone,age特征暂时删除\n",
    "df = df.drop([\"release_date\", \"zone\", \"age\"],1)"
   ]
  },
  {
   "cell_type": "code",
   "execution_count": null,
   "metadata": {},
   "outputs": [],
   "source": [
    "#制作词云\n",
    "\n",
    "#创建一个制作词云的函数\n",
    "def create_cloud(feature, figsize=(10,10)):\n",
    "    \"\"\"\n",
    "    制作某一文本特征的词云\n",
    "    feature:dataframe中特征的seires形式\n",
    "    figsize:词云图形大小\n",
    "    \"\"\"\n",
    "    \n",
    "    font = r\"C:\\Windows\\Fonts\\simhei.ttf\" #选择字体\n",
    "    \n",
    "    #将feature中的所有文本放入text\n",
    "    text = \"\" \n",
    "    for data in feature:\n",
    "        text += data + \",\"\n",
    "    \n",
    "    #创建图云\n",
    "    fig = plt.figure(figsize=figsize)\n",
    "    cloud = WordCloud(background_color=\"white\", \n",
    "                      font_path=font, \n",
    "                      max_font_size=100,\n",
    "                     stopwords=[\"no_labels\", \"上海\"]).generate(text)\n",
    "    plt.axis(\"off\") #隐藏坐标轴\n",
    "    plt.imshow(cloud, interpolation=\"bilinear\") \n",
    "    print(feature.name)\n",
    "    plt.show()"
   ]
  },
  {
   "cell_type": "code",
   "execution_count": null,
   "metadata": {},
   "outputs": [],
   "source": [
    "#大致看一下公司、职位、福利都有哪些信息\n",
    "for feature in [\"company\", \"position\", \"labels\"]:\n",
    "    create_cloud(df[feature])"
   ]
  },
  {
   "cell_type": "code",
   "execution_count": null,
   "metadata": {},
   "outputs": [],
   "source": [
    "import jieba\n",
    "contexts = \"\"\n",
    "for context in df[\"context\"]:\n",
    "    if not context.isalnum():\n",
    "        contexts += context \n",
    "seg_list = jieba.cut(contexts)\n",
    "wl = \"\".join(seg_list)\n",
    "cloud = WordCloud(background_color=\"white\", \n",
    "                    font_path=r\"C:\\Windows\\Fonts\\simhei.ttf\",\n",
    "                    max_font_size=100,\n",
    "                    stopwords=[\"no_labels\", \"上海\"]).generate(wl)\n",
    "plt.axis(\"off\") #隐藏坐标轴\n",
    "plt.imshow(cloud, interpolation=\"bilinear\") \n",
    "print(\"context\")"
   ]
  },
  {
   "cell_type": "code",
   "execution_count": null,
   "metadata": {},
   "outputs": [],
   "source": [
    "seg_list"
   ]
  },
  {
   "cell_type": "markdown",
   "metadata": {},
   "source": [
    "<p> 从company中可以发现基本都是汽车相关公司。\n",
    "<p> 从position中可以看到manager和Engineer出现频率较高。可能与我们需要找的数据分析职位有出入，因为一些技术类、销售类或是经济类相关职位也会有对数据进行分析的职位描述，而且现在很多企业的高层会通过数据来驱动公司业务，可见，越来越多的职位需要数据分析的能力。  \n",
    "<p> labels里面五险一金最多，但我认为这条是公司对员工的基本义务，不应该出现在福利里面；发展空间大出现的频率也很高，也不能算是福利，而且带有一种画饼的嫌疑。其他字样也都是些很暧昧的字样，对于职场老鸟来说不具备吸引力。怪不得有297个信息里都没有labels，可能求职者也不太会关注这些labels。"
   ]
  },
  {
   "cell_type": "code",
   "execution_count": null,
   "metadata": {},
   "outputs": [],
   "source": [
    "#来看一下工作经验、学历、语言和工资的关系\n",
    "\n",
    "#定义一个画图函数\n",
    "def draw_relating_salary(feature, index):\n",
    "    \"\"\"\n",
    "    画出各个特征关于工资的关系图\n",
    "    feature: 特征\n",
    "    index: 横坐标的顺序(由于dataframe的排列顺序并不是我们平时惯用的顺序，故x轴自行设定)\n",
    "    \"\"\"\n",
    "    \n",
    "    #提取特征中的数据作为x轴，y轴\n",
    "    feature_count = df.groupby([feature])[\"ave_salary\"].count()\n",
    "    feature_count = feature_count.reindex(index)\n",
    "    feature_value = feature_count.values\n",
    "    \n",
    "    feature_salary = df.groupby([feature])[\"ave_salary\"].mean()\n",
    "    feature_salary = feature_salary.reindex(index)\n",
    "    feature_salary_value = feature_salary.values\n",
    "    \n",
    "    #设置双坐标系\n",
    "    fig, left_ax = plt.subplots(figsize=(10,8)) \n",
    "    right_ax = left_ax.twinx()    \n",
    "    \n",
    "    #作图\n",
    "    left_ax.bar(index, feature_value, color=\"grey\", edgecolor=\"black\", alpha=0.5) #条形图各条件出现次数\n",
    "    right_ax.plot(index, feature_salary_value, \"C4o-\") # 折线图各条件下的平均工资\n",
    "    \n",
    "    #设置标签\n",
    "    plt.title(feature, size=20) \n",
    "    left_ax.set_ylabel(\"Number\",size=17)\n",
    "    right_ax.set_ylabel(\"Annual Salary\", size=17)\n",
    "    \n",
    "    #设置坐标轴字体\n",
    "    left_ax.tick_params(labelsize=15)\n",
    "    right_ax.tick_params(labelsize=15)\n",
    "    left_ax.xaxis.set_tick_params(rotation=30)#横坐标倾斜，防止文本重叠\n",
    "    \n",
    "    #给图形添加数据\n",
    "    for a,b in zip(plt.xticks()[0], feature_value):\n",
    "        left_ax.text(a, b+2, b, ha=\"center\", size=15)\n",
    "    for a,b in zip(plt.xticks()[0], feature_salary_value):\n",
    "        right_ax.text(a, b+1, \"%.0f\" % b, ha=\"center\", va=\"bottom\", size=15, color=\"C4\")"
   ]
  },
  {
   "cell_type": "code",
   "execution_count": null,
   "metadata": {},
   "outputs": [],
   "source": [
    "#工作经验与工资的关系\n",
    "x_exp = ['经验不限', '1年以上', '2年以上', '3年以上', '4年以上', '5年以上',\n",
    "     '6年以上', '7年以上', '8年以上', '10年以上', '12年以上' ] #设置方便阅读的x轴顺序\n",
    "draw_relating_salary(\"experience\", x_exp)"
   ]
  },
  {
   "cell_type": "markdown",
   "metadata": {},
   "source": [
    "<p> 俗话说3年、5年是一道坎啊，而我们的数据中3年和5年是出现的频数最多，根据1W小时定理，工作3-5年可以算是这个领域的专家了。\n",
    "<p> 工资与工作经验基本成正比，虽然12年以上的比10年以上的少了很多，但考虑到爬取的样本很少，可以忽略其参考价值。\n",
    "<p> 可以看出，即使是在传统汽车行业，2年数据分析的工作经验也能有平均24万年薪，5年的工作经验也能超过30万，但考虑到我们爬取的信息包含有一部分其它职位（只是职责描述中有数据分析的职位），存在一定的不确定因素。"
   ]
  },
  {
   "cell_type": "code",
   "execution_count": null,
   "metadata": {},
   "outputs": [],
   "source": [
    "#学历与工资的关系\n",
    "x_edu = ['学历不限', '大专及以上', '本科及以上', '硕士及以上', '博士']\n",
    "draw_relating_salary(\"education\", x_edu)"
   ]
  },
  {
   "cell_type": "markdown",
   "metadata": {},
   "source": [
    "<p> 学历与工资基本呈正比，博士的工资虽然比硕士少，但博士的样本太少，参考价值不大，况且硕士及以上也包含有博士的意思。\n",
    "<p> 学历不限与本科及以上工资差别不大，可以猜想有些公司虽然对学历没有要，可能实际上还是以招本科生为基准。\n",
    "<p> 本科及以上出现的次数远多于其他学历，可以看出该行业对学历的要求不算太严格，本科就行。"
   ]
  },
  {
   "cell_type": "code",
   "execution_count": null,
   "metadata": {},
   "outputs": [],
   "source": [
    "#语言与工资的关系\n",
    "x_lan = [' 语言不限', ' 英语', ' 日语', ' 英语 + 日语', ' 英语 + 德语']\n",
    "draw_relating_salary(\"language\", x_lan)"
   ]
  },
  {
   "cell_type": "markdown",
   "metadata": {},
   "source": [
    "<p>语言不限的频数远多于有语言要求的，说明除了外企，数据分析这一职位对语言要求不高\n",
    "<p>有语言要求的频数虽然不多，但可以看到包含日语（大概率是日企）企业给出的工资远远低与其他语言要求；作为在日企上班的的我觉得，虽然样本数量少，但还是能说明一些问题的，日企你们给这么低的薪水真的想招人么？"
   ]
  },
  {
   "cell_type": "markdown",
   "metadata": {},
   "source": [
    "### 存在问题\n",
    "<p> 虽然最终得到了693条招聘信息，但并没有对context进行深入挖掘，应该还存在一部分无效职位\n",
    "<p> 我用RandomForestRegression对工资面议的部分进行了预测，但实际上该模型对训练样本的准确率只有4成，但我只需要预测的部分趋势正确即可（主要原因是本人能力有限TOT）。\n",
    "<p> 由于本人也是新手，应该还存在我也不知道的问题。"
   ]
  },
  {
   "cell_type": "code",
   "execution_count": null,
   "metadata": {},
   "outputs": [],
   "source": [
    "df[\"position\"].values"
   ]
  },
  {
   "cell_type": "code",
   "execution_count": null,
   "metadata": {},
   "outputs": [],
   "source": []
  }
 ],
 "metadata": {
  "kernelspec": {
   "display_name": "Python 3",
   "language": "python",
   "name": "python3"
  },
  "language_info": {
   "codemirror_mode": {
    "name": "ipython",
    "version": 3
   },
   "file_extension": ".py",
   "mimetype": "text/x-python",
   "name": "python",
   "nbconvert_exporter": "python",
   "pygments_lexer": "ipython3",
   "version": "3.6.5"
  }
 },
 "nbformat": 4,
 "nbformat_minor": 2
}
